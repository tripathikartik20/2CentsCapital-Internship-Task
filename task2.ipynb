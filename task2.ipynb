{
 "cells": [
  {
   "cell_type": "code",
   "execution_count": null,
   "metadata": {},
   "outputs": [],
   "source": [
    "import yfinance as yf\n",
    "import pandas as pd\n",
    "import numpy as np\n",
    "from datetime import datetime, timedelta\n",
    "from sklearn.ensemble import RandomForestClassifier\n",
    "from sklearn.metrics import accuracy_score, precision_score, recall_score\n",
    "import matplotlib.pyplot as plt\n",
    "import ta\n"
   ]
  },
  {
   "cell_type": "code",
   "execution_count": null,
   "metadata": {},
   "outputs": [],
   "source": [
    "\n",
    "# Define the list of stocks\n",
    "stocks = ['RELIANCE.NS', 'TCS.NS', 'HDFCBANK.NS', 'INFY.NS', 'ICICIBANK.NS', 'HINDUNILVR.NS', 'HDFC.NS', 'KOTAKBANK.NS', 'BHARTIARTL.NS', 'LT.NS',\n",
    "    'ITC.NS', 'ASIANPAINT.NS', 'SBIN.NS', 'BAJFINANCE.NS', 'HCLTECH.NS', 'AXISBANK.NS', 'DMART.NS', 'MARUTI.NS', 'SUNPHARMA.NS', 'ADANIGREEN.NS',\n",
    "    'ONGC.NS', 'NTPC.NS', 'POWERGRID.NS', 'TATAMOTORS.NS', 'TATASTEEL.NS', 'ULTRACEMCO.NS', 'GRASIM.NS', 'BAJAJFINSV.NS', 'BRITANNIA.NS', 'ADANIPORTS.NS',\n",
    "    'HEROMOTOCO.NS', 'WIPRO.NS', 'DRREDDY.NS', 'HDFCLIFE.NS', 'TECHM.NS', 'SBICARD.NS', 'SHREECEM.NS', 'CIPLA.NS', 'NESTLEIND.NS', 'DABUR.NS',\n",
    "    'VEDL.NS', 'INDUSINDBK.NS', 'HINDZINC.NS', 'BOSCHLTD.NS', 'COALINDIA.NS', 'PIDILITIND.NS', 'DIVISLAB.NS', 'ADANIENT.NS', 'BAJAJHLDNG.NS', 'LUPIN.NS',\n",
    "    'ICICIPRULI.NS', 'APOLLOHOSP.NS', 'COLPAL.NS', 'GODREJCP.NS', 'IOC.NS', 'M&M.NS', 'NAUKRI.NS', 'HAVELLS.NS', 'PGHH.NS', 'EICHERMOT.NS',\n",
    "    'BPCL.NS', 'SIEMENS.NS', 'BIOCON.NS', 'TATAPOWER.NS', 'BERGEPAINT.NS', 'SRF.NS', 'CONCOR.NS', 'AMBUJACEM.NS', 'GLAND.NS', 'INDIGO.NS',\n",
    "    'MANAPPURAM.NS', 'MCDOWELL-N.NS', 'LICI.NS', 'HDFCAMC.NS', 'DLF.NS', 'BANDHANBNK.NS', 'AUROPHARMA.NS', 'MPHASIS.NS',\n",
    "    'TORNTPHARM.NS', 'TRENT.NS', 'PETRONET.NS', 'CUB.NS', 'GMRINFRA.NS', 'BAJAJ-AUTO.NS', 'ABBOTINDIA.NS', 'NMDC.NS', 'TITAN.NS', 'BEL.NS',\n",
    "    'HINDALCO.NS', 'VOLTAS.NS', 'MUTHOOTFIN.NS', 'BEL.NS', 'EXIDEIND.NS', 'NATIONALUM.NS', 'BANKBARODA.NS', 'SAIL.NS', 'HINDCOPPER.NS', 'SUNTV.NS']\n"
   ]
  },
  {
   "cell_type": "code",
   "execution_count": null,
   "metadata": {},
   "outputs": [],
   "source": [
    "\n",
    "# Define the date range\n",
    "end_date = datetime.now()\n",
    "start_date = end_date - timedelta(days=5 * 365)\n"
   ]
  },
  {
   "cell_type": "code",
   "execution_count": null,
   "metadata": {},
   "outputs": [],
   "source": [
    "\n",
    "# Fetch historical data and financial metrics\n",
    "def fetch_data(stocks, start_date, end_date):\n",
    "    all_data = {}\n",
    "    for stock in stocks:\n",
    "        try:\n",
    "            df = yf.download(stock, start=start_date, end=end_date)\n",
    "            info = yf.Ticker(stock).info\n",
    "            df['PE_Ratio'] = info.get('trailingPE', np.nan)\n",
    "            df['Earnings'] = info.get('trailingEps', np.nan)\n",
    "            all_data[stock] = df\n",
    "        except Exception as e:\n",
    "            print(f\"Error fetching data for {stock}: {e}\")\n",
    "    return all_data\n"
   ]
  },
  {
   "cell_type": "code",
   "execution_count": null,
   "metadata": {},
   "outputs": [],
   "source": [
    "\n",
    "stock_data = fetch_data(stocks, start_date, end_date)\n"
   ]
  },
  {
   "cell_type": "code",
   "execution_count": null,
   "metadata": {},
   "outputs": [],
   "source": [
    "\n",
    "# Add features using technical indicators and financial metrics\n",
    "def add_features(df):\n",
    "    df['RSI'] = ta.momentum.rsi(df['Close'])\n",
    "    df['MACD'] = ta.trend.macd_diff(df['Close'])\n",
    "    bollinger = ta.volatility.BollingerBands(df['Close'])\n",
    "    df['BB_High'] = bollinger.bollinger_hband()\n",
    "    df['BB_Low'] = bollinger.bollinger_lband()\n",
    "    df['Price_Lag1'] = df['Close'].shift(1)\n",
    "    df['Price_Lag2'] = df['Close'].shift(2)\n",
    "    df['Target'] = np.where(df['Close'].shift(-1) > df['Close'], 1, 0)\n",
    "    return df.dropna()\n",
    "\n"
   ]
  },
  {
   "cell_type": "code",
   "execution_count": null,
   "metadata": {},
   "outputs": [],
   "source": [
    "for stock, df in stock_data.items():\n",
    "    stock_data[stock] = add_features(df)\n"
   ]
  },
  {
   "cell_type": "code",
   "execution_count": null,
   "metadata": {},
   "outputs": [],
   "source": [
    "\n",
    "# Split data into training and testing sets\n",
    "def train_test_split(df, test_size=0.2):\n",
    "    split_index = int(len(df) * (1 - test_size))\n",
    "    train_data = df[:split_index]\n",
    "    test_data = df[split_index:]\n",
    "    return train_data, test_data\n"
   ]
  },
  {
   "cell_type": "code",
   "execution_count": null,
   "metadata": {},
   "outputs": [],
   "source": [
    "\n",
    "train_data = {}\n",
    "test_data = {}\n"
   ]
  },
  {
   "cell_type": "code",
   "execution_count": null,
   "metadata": {},
   "outputs": [],
   "source": [
    "\n",
    "for stock, df in stock_data.items():\n",
    "    train_data[stock], test_data[stock] = train_test_split(df)\n"
   ]
  },
  {
   "cell_type": "code",
   "execution_count": null,
   "metadata": {},
   "outputs": [],
   "source": [
    "\n",
    "# Train a Random Forest classifier\n",
    "model = RandomForestClassifier(n_estimators=100, random_state=42)\n"
   ]
  },
  {
   "cell_type": "code",
   "execution_count": null,
   "metadata": {},
   "outputs": [],
   "source": [
    "\n",
    "def prepare_data(df):\n",
    "    features = df[['RSI', 'MACD', 'BB_High', 'BB_Low', 'Price_Lag1', 'Price_Lag2', 'PE_Ratio', 'Earnings']]\n",
    "    target = df['Target']\n",
    "    return features, target\n"
   ]
  },
  {
   "cell_type": "code",
   "execution_count": null,
   "metadata": {},
   "outputs": [],
   "source": [
    "\n",
    "reports = []\n"
   ]
  },
  {
   "cell_type": "code",
   "execution_count": null,
   "metadata": {},
   "outputs": [],
   "source": [
    "\n",
    "for stock in stocks:\n",
    "    train_features, train_target = prepare_data(train_data[stock])\n",
    "    test_features, test_target = prepare_data(test_data[stock])\n",
    "\n",
    "    if train_features.empty or not train_target.any():\n",
    "        print(f\"Training data for {stock} is empty or contains no positive samples. Skipping model fitting.\")\n",
    "        continue  # Skip model fitting for this stock\n",
    "\n",
    "    try:\n",
    "        model.fit(train_features, train_target)\n",
    "        predictions = model.predict(test_features)\n",
    "\n",
    "        if not predictions.any():\n",
    "            print(f\"No predictions made for {stock}. Skipping performance evaluation.\")\n",
    "            continue  # Skip performance evaluation for this stock\n",
    "\n",
    "        accuracy = accuracy_score(test_target, predictions)\n",
    "        precision = precision_score(test_target, predictions)\n",
    "        recall = recall_score(test_target, predictions)\n",
    "\n",
    "        print(f\"Model performance for {stock}:\")\n",
    "        print(f\"Accuracy: {accuracy:.2f}\")\n",
    "        print(f\"Precision: {precision:.2f}\")\n",
    "        print(f\"Recall: {recall:.2f}\")\n",
    "        print(\"=\" * 40)\n",
    "\n",
    "        reports.append({\n",
    "            'Stock': stock,\n",
    "            'Accuracy': accuracy,\n",
    "            'Precision': precision,\n",
    "            'Recall': recall\n",
    "        })\n",
    "\n",
    "    except Exception as e:\n",
    "        print(f\"Error while training model for {stock}: {e}\")\n"
   ]
  },
  {
   "cell_type": "code",
   "execution_count": null,
   "metadata": {},
   "outputs": [],
   "source": [
    "\n",
    "# Generate trading signals\n",
    "def generate_trading_signals(df, model):\n",
    "    features, _ = prepare_data(df)\n",
    "    df['Prediction'] = model.predict(features)\n",
    "    df['Buy_Signal'] = (df['Prediction'] == 1) & (df['Prediction'].shift(1) == 0)\n",
    "    df['Sell_Signal'] = (df['Prediction'] == 0) & (df['Prediction'].shift(1) == 1)\n",
    "    return df\n"
   ]
  },
  {
   "cell_type": "code",
   "execution_count": null,
   "metadata": {},
   "outputs": [],
   "source": [
    "\n",
    "for stock in stocks:\n",
    "    try:\n",
    "        test_data[stock] = generate_trading_signals(test_data[stock], model)\n",
    "    except Exception as e:\n",
    "        print(f\"Error while generating trading signals for {stock}: {e}\")\n"
   ]
  },
  {
   "cell_type": "code",
   "execution_count": null,
   "metadata": {},
   "outputs": [],
   "source": [
    "\n",
    "# Implement a backtesting framework\n",
    "def backtest(df, initial_investment=10000):\n",
    "    cash = initial_investment\n",
    "    position = 0\n",
    "    portfolio_value = []\n",
    "    trade_log = []\n",
    "\n",
    "    for i in range(len(df)):\n",
    "        if df['Buy_Signal'].iloc[i]:\n",
    "            if cash > 0:\n",
    "                position = cash / df['Close'].iloc[i]\n",
    "                cash = 0\n",
    "                trade_log.append(('Buy', df.index[i], df['Close'].iloc[i]))\n",
    "        elif df['Sell_Signal'].iloc[i]:\n",
    "            if position > 0:\n",
    "                cash = position * df['Close'].iloc[i]\n",
    "                position = 0\n",
    "                trade_log.append(('Sell', df.index[i], df['Close'].iloc[i]))\n",
    "        portfolio_value.append(cash + position * df['Close'].iloc[i])\n",
    "\n",
    "    df['Portfolio_Value'] = portfolio_value\n",
    "    return df, trade_log\n"
   ]
  },
  {
   "cell_type": "code",
   "execution_count": null,
   "metadata": {},
   "outputs": [],
   "source": [
    "\n",
    "performance_reports = []\n"
   ]
  },
  {
   "cell_type": "code",
   "execution_count": null,
   "metadata": {},
   "outputs": [],
   "source": [
    "\n",
    "for stock in stocks:\n",
    "    try:\n",
    "        train_features, train_target = prepare_data(train_data[stock])\n",
    "        test_features, test_target = prepare_data(test_data[stock])\n",
    "\n",
    "        if train_features.empty or not train_target.any():\n",
    "            print(f\"Training data for {stock} is empty or contains no positive samples. Skipping model fitting.\")\n",
    "            continue  # Skip model fitting for this stock\n",
    "\n",
    "        model.fit(train_features, train_target)\n",
    "        predictions = model.predict(test_features)\n",
    "\n",
    "        if not predictions.any():\n",
    "            print(f\"No predictions made for {stock}. Skipping performance evaluation.\")\n",
    "            continue  # Skip performance evaluation for this stock\n",
    "\n",
    "        accuracy = accuracy_score(test_target, predictions)\n",
    "        precision = precision_score(test_target, predictions)\n",
    "        recall = recall_score(test_target, predictions)\n",
    "\n",
    "        print(f\"Model performance for {stock}:\")\n",
    "        print(f\"Accuracy: {accuracy:.2f}\")\n",
    "        print(f\"Precision: {precision:.2f}\")\n",
    "        print(f\"Recall: {recall:.2f}\")\n",
    "        print(\"=\" * 40)\n",
    "\n",
    "        performance_reports.append({\n",
    "            'Stock': stock,\n",
    "            'Accuracy': accuracy,\n",
    "            'Precision': precision,\n",
    "            'Recall': recall\n",
    "        })\n",
    "\n",
    "    except Exception as e:\n",
    "        print(f\"Error while evaluating performance for {stock}: {e}\")\n"
   ]
  },
  {
   "cell_type": "code",
   "execution_count": null,
   "metadata": {},
   "outputs": [],
   "source": [
    "\n",
    "# Generate performance report\n",
    "def summary_report(reports):\n",
    "    summary = pd.DataFrame(reports)\n",
    "    return summary\n"
   ]
  },
  {
   "cell_type": "code",
   "execution_count": null,
   "metadata": {},
   "outputs": [],
   "source": [
    "\n",
    "summary = summary_report(performance_reports)\n",
    "print(summary)\n"
   ]
  },
  {
   "cell_type": "code",
   "execution_count": null,
   "metadata": {},
   "outputs": [],
   "source": [
    "\n",
    "# Write summary report\n",
    "def write_summary(summary):\n",
    "    print(\"Performance Summary Report:\")\n",
    "    print(summary)\n",
    "    print(\"=\" * 40)\n",
    "    for _, row in summary.iterrows():\n",
    "        print(f\"Stock: {row['Stock']}\")\n",
    "        print(f\"Accuracy: {row['Accuracy']:.2%}\")\n",
    "        print(f\"Precision: {row['Precision']:.2%}\")\n",
    "        print(f\"Recall: {row['Recall']:.2%}\")\n",
    "        print(\"=\" * 40)\n"
   ]
  },
  {
   "cell_type": "code",
   "execution_count": null,
   "metadata": {},
   "outputs": [],
   "source": [
    "\n",
    "write_summary(summary)\n"
   ]
  },
  {
   "cell_type": "code",
   "execution_count": null,
   "metadata": {},
   "outputs": [],
   "source": [
    "\n",
    "# Visualize buy/sell signals and portfolio value\n",
    "def visualize(stock, df):\n",
    "    plt.figure(figsize=(14, 7))\n",
    "    plt.plot(df.index, df['Close'], label='Close Price')\n",
    "\n",
    "    buy_indices = df.index[df['Buy_Signal']]\n",
    "    sell_indices = df.index[df['Sell_Signal']]\n",
    "\n",
    "    plt.scatter(buy_indices, df['Close'][df['Buy_Signal']], label='Buy Signal', marker='^', color='green')\n",
    "    plt.scatter(sell_indices, df['Close'][df['Sell_Signal']], label='Sell Signal', marker='v', color='red')\n",
    "\n",
    "    plt.title(f'{stock} Price with Buy/Sell Signals')\n",
    "    plt.legend()\n",
    "    plt.show()\n",
    "\n",
    "    plt.figure(figsize=(14, 7))\n",
    "    plt.plot(df.index, df['Portfolio_Value'], label='Portfolio Value')\n",
    "    plt.title(f'{stock} Portfolio Value Over Time')\n",
    "    plt.legend()\n",
    "    plt.show()\n"
   ]
  },
  {
   "cell_type": "code",
   "execution_count": null,
   "metadata": {},
   "outputs": [],
   "source": [
    "\n",
    "for stock in stocks:\n",
    "    try:\n",
    "        visualize(stock, test_data[stock])\n",
    "    except Exception as e:\n",
    "        print(f\"Error while visualizing {stock}: {e}\")\n"
   ]
  },
  {
   "cell_type": "code",
   "execution_count": null,
   "metadata": {},
   "outputs": [],
   "source": [
    "\n",
    "# Train a Random Forest classifier\n",
    "model = RandomForestClassifier(n_estimators=100, random_state=42)\n",
    "\n",
    "def prepare_data(df):\n",
    "    features = df[['RSI', 'MACD', 'BB_High', 'BB_Low', 'Price_Lag1', 'Price_Lag2', 'PE_Ratio', 'Earnings']]\n",
    "    target = df['Target']\n",
    "    return features, target\n",
    "\n",
    "reports = []\n",
    "\n",
    "for stock in stocks:\n",
    "    train_features, train_target = prepare_data(train_data[stock])\n",
    "    test_features, test_target = prepare_data(test_data[stock])\n",
    "\n",
    "    if train_features.empty or not train_target.any():\n",
    "        print(f\"Training data for {stock} is empty or contains no positive samples. Skipping model fitting.\")\n",
    "        continue  # Skip model fitting for this stock\n",
    "\n",
    "    try:\n",
    "        model.fit(train_features, train_target)\n",
    "        predictions = model.predict(test_features)\n",
    "\n",
    "        if not predictions.any():\n",
    "            print(f\"No predictions made for {stock}. Skipping performance evaluation.\")\n",
    "            continue  # Skip performance evaluation for this stock\n",
    "\n",
    "        accuracy = accuracy_score(test_target, predictions)\n",
    "        precision = precision_score(test_target, predictions)\n",
    "        recall = recall_score(test_target, predictions)\n",
    "\n",
    "        print(f\"Model performance for {stock}:\")\n",
    "        print(f\"Accuracy: {accuracy:.2f}\")\n",
    "        print(f\"Precision: {precision:.2f}\")\n",
    "        print(f\"Recall: {recall:.2f}\")\n",
    "        print(\"=\" * 40)\n",
    "\n",
    "        reports.append({\n",
    "            'Stock': stock,\n",
    "            'Accuracy': accuracy,\n",
    "            'Precision': precision,\n",
    "            'Recall': recall\n",
    "        })\n",
    "\n",
    "    except Exception as e:\n",
    "        print(f\"Error while training model for {stock}: {e}\")\n"
   ]
  },
  {
   "cell_type": "code",
   "execution_count": null,
   "metadata": {},
   "outputs": [],
   "source": [
    "\n",
    "# Generate trading signals\n",
    "def generate_trading_signals(df, model):\n",
    "    features, _ = prepare_data(df)\n",
    "    df['Prediction'] = model.predict(features)\n",
    "    df['Buy_Signal'] = (df['Prediction'] == 1) & (df['Prediction'].shift(1) == 0)\n",
    "    df['Sell_Signal'] = (df['Prediction'] == 0) & (df['Prediction'].shift(1) == 1)\n",
    "    return df\n"
   ]
  },
  {
   "cell_type": "code",
   "execution_count": null,
   "metadata": {},
   "outputs": [],
   "source": [
    "\n",
    "for stock in stocks:\n",
    "    try:\n",
    "        test_data[stock] = generate_trading_signals(test_data[stock], model)\n",
    "    except Exception as e:\n",
    "        print(f\"Error while generating trading signals for {stock}: {e}\")\n"
   ]
  },
  {
   "cell_type": "code",
   "execution_count": null,
   "metadata": {},
   "outputs": [],
   "source": [
    "\n",
    "# Implement a backtesting framework\n",
    "def backtest(df, initial_investment=10000):\n",
    "    cash = initial_investment\n",
    "    position = 0\n",
    "    portfolio_value = []\n",
    "    trade_log = []\n",
    "\n",
    "    for i in range(len(df)):\n",
    "        if df['Buy_Signal'].iloc[i]:\n",
    "            if cash > 0:\n",
    "                position = cash / df['Close'].iloc[i]\n",
    "                cash = 0\n",
    "                trade_log.append(('Buy', df.index[i], df['Close'].iloc[i]))\n",
    "        elif df['Sell_Signal'].iloc[i]:\n",
    "            if position > 0:\n",
    "                cash = position * df['Close'].iloc[i]\n",
    "                position = 0\n",
    "                trade_log.append(('Sell', df.index[i], df['Close'].iloc[i]))\n",
    "        portfolio_value.append(cash + position * df['Close'].iloc[i])\n",
    "\n",
    "    df['Portfolio_Value'] = portfolio_value\n",
    "    return df, trade_log\n"
   ]
  },
  {
   "cell_type": "code",
   "execution_count": null,
   "metadata": {},
   "outputs": [],
   "source": [
    "\n",
    "performance_reports = []\n"
   ]
  },
  {
   "cell_type": "code",
   "execution_count": null,
   "metadata": {},
   "outputs": [],
   "source": [
    "\n",
    "for stock in stocks:\n",
    "    try:\n",
    "        train_features, train_target = prepare_data(train_data[stock])\n",
    "        test_features, test_target = prepare_data(test_data[stock])\n",
    "\n",
    "        if train_features.empty or not train_target.any():\n",
    "            print(f\"Training data for {stock} is empty or contains no positive samples. Skipping model fitting.\")\n",
    "            continue  # Skip model fitting for this stock\n",
    "\n",
    "        model.fit(train_features, train_target)\n",
    "        predictions = model.predict(test_features)\n",
    "\n",
    "        if not predictions.any():\n",
    "            print(f\"No predictions made for {stock}. Skipping performance evaluation.\")\n",
    "            continue  # Skip performance evaluation for this stock\n",
    "\n",
    "        accuracy = accuracy_score(test_target, predictions)\n",
    "        precision = precision_score(test_target, predictions)\n",
    "        recall = recall_score(test_target, predictions)\n",
    "\n",
    "        print(f\"Model performance for {stock}:\")\n",
    "        print(f\"Accuracy: {accuracy:.2f}\")\n",
    "        print(f\"Precision: {precision:.2f}\")\n",
    "        print(f\"Recall: {recall:.2f}\")\n",
    "        print(\"=\" * 40)\n",
    "\n",
    "        performance_reports.append({\n",
    "            'Stock': stock,\n",
    "            'Accuracy': accuracy,\n",
    "            'Precision': precision,\n",
    "            'Recall': recall\n",
    "        })\n",
    "\n",
    "    except Exception as e:\n",
    "        print(f\"Error while evaluating performance for {stock}: {e}\")\n"
   ]
  },
  {
   "cell_type": "code",
   "execution_count": null,
   "metadata": {},
   "outputs": [],
   "source": [
    "\n",
    "# Generate performance report\n",
    "def summary_report(reports):\n",
    "    summary = pd.DataFrame(reports)\n",
    "    return summary\n"
   ]
  },
  {
   "cell_type": "code",
   "execution_count": null,
   "metadata": {},
   "outputs": [],
   "source": [
    "\n",
    "summary = summary_report(performance_reports)\n",
    "print(summary)\n"
   ]
  },
  {
   "cell_type": "code",
   "execution_count": null,
   "metadata": {},
   "outputs": [],
   "source": [
    "\n",
    "# Write summary report\n",
    "def write_summary(summary):\n",
    "    print(\"Performance Summary Report:\")\n",
    "    print(summary)\n",
    "    print(\"=\" * 40)\n",
    "    for _, row in summary.iterrows():\n",
    "        print(f\"Stock: {row['Stock']}\")\n",
    "        print(f\"Accuracy: {row['Accuracy']:.2%}\")\n",
    "        print(f\"Precision: {row['Precision']:.2%}\")\n",
    "        print(f\"Recall: {row['Recall']:.2%}\")\n",
    "        print(\"=\" * 40)\n"
   ]
  },
  {
   "cell_type": "code",
   "execution_count": null,
   "metadata": {},
   "outputs": [],
   "source": [
    "\n",
    "write_summary(summary)\n"
   ]
  },
  {
   "cell_type": "code",
   "execution_count": null,
   "metadata": {},
   "outputs": [],
   "source": [
    "\n",
    "# Visualize buy/sell signals and portfolio value\n",
    "def visualize(stock, df):\n",
    "    plt.figure(figsize=(14, 7))\n",
    "    plt.plot(df.index, df['Close'], label='Close Price')\n",
    "\n",
    "    buy_indices = df.index[df['Buy_Signal']]\n",
    "    sell_indices = df.index[df['Sell_Signal']]\n",
    "\n",
    "    plt.scatter(buy_indices, df['Close'][df['Buy_Signal']], label='Buy Signal', marker='^', color='green')\n",
    "    plt.scatter(sell_indices, df['Close'][df['Sell_Signal']], label='Sell Signal', marker='v', color='red')\n",
    "\n",
    "    plt.title(f'{stock} Price with Buy/Sell Signals')\n",
    "    plt.legend()\n",
    "    plt.show()\n",
    "\n",
    "    plt.figure(figsize=(14, 7))\n",
    "    plt.plot(df.index, df['Portfolio_Value'], label='Portfolio Value')\n",
    "    plt.title(f'{stock} Portfolio Value Over Time')\n",
    "    plt.legend()\n",
    "    plt.show()\n"
   ]
  },
  {
   "cell_type": "code",
   "execution_count": null,
   "metadata": {},
   "outputs": [],
   "source": [
    "\n",
    "for stock in stocks:\n",
    "    try:\n",
    "        visualize(stock, test_data[stock])\n",
    "    except Exception as e:\n",
    "        print(f\"Error while visualizing {stock}: {e}\")\n"
   ]
  },
  {
   "cell_type": "code",
   "execution_count": null,
   "metadata": {},
   "outputs": [],
   "source": [
    "\n",
    "train_data = {}\n",
    "test_data = {}\n"
   ]
  },
  {
   "cell_type": "code",
   "execution_count": null,
   "metadata": {},
   "outputs": [],
   "source": [
    "\n",
    "for stock, df in stock_data.items():\n",
    "    train_data[stock], test_data[stock] = train_test_split(df)\n"
   ]
  },
  {
   "cell_type": "code",
   "execution_count": null,
   "metadata": {},
   "outputs": [],
   "source": [
    "\n",
    "# Train a Random Forest classifier\n",
    "model = RandomForestClassifier(n_estimators=100, random_state=42)\n"
   ]
  },
  {
   "cell_type": "code",
   "execution_count": null,
   "metadata": {},
   "outputs": [],
   "source": [
    "\n",
    "def prepare_data(df):\n",
    "    features = df[['RSI', 'MACD', 'BB_High', 'BB_Low', 'Price_Lag1', 'Price_Lag2', 'PE_Ratio', 'Earnings']]\n",
    "    target = df['Target']\n",
    "    return features, target\n"
   ]
  },
  {
   "cell_type": "code",
   "execution_count": null,
   "metadata": {},
   "outputs": [],
   "source": [
    "\n",
    "reports = []\n"
   ]
  },
  {
   "cell_type": "code",
   "execution_count": null,
   "metadata": {},
   "outputs": [],
   "source": [
    "\n",
    "for stock in stocks:\n",
    "    train_features, train_target = prepare_data(train_data[stock])\n",
    "    test_features, test_target = prepare_data(test_data[stock])\n",
    "\n",
    "    if train_features.empty or not train_target.any():\n",
    "        print(f\"Training data for {stock} is empty or contains no positive samples. Skipping model fitting.\")\n",
    "        continue  # Skip model fitting for this stock\n",
    "\n",
    "    try:\n",
    "        model.fit(train_features, train_target)\n",
    "        predictions = model.predict(test_features)\n",
    "\n",
    "        if not predictions.any():\n",
    "            print(f\"No predictions made for {stock}. Skipping performance evaluation.\")\n",
    "            continue  # Skip performance evaluation for this stock\n",
    "\n",
    "        accuracy = accuracy_score(test_target, predictions)\n",
    "        precision = precision_score(test_target, predictions)\n",
    "        recall = recall_score(test_target, predictions)\n",
    "\n",
    "        print(f\"Model performance for {stock}:\")\n",
    "        print(f\"Accuracy: {accuracy:.2f}\")\n",
    "        print(f\"Precision: {precision:.2f}\")\n",
    "        print(f\"Recall: {recall:.2f}\")\n",
    "        print(\"=\" * 40)\n",
    "\n",
    "        reports.append({\n",
    "            'Stock': stock,\n",
    "            'Accuracy': accuracy,\n",
    "            'Precision': precision,\n",
    "            'Recall': recall\n",
    "        })\n",
    "\n",
    "    except Exception as e:\n",
    "        print(f\"Error while training model for {stock}: {e}\")\n"
   ]
  },
  {
   "cell_type": "code",
   "execution_count": null,
   "metadata": {},
   "outputs": [],
   "source": [
    "\n",
    "# Generate trading signals\n",
    "def generate_trading_signals(df, model):\n",
    "    features, _ = prepare_data(df)\n",
    "    df['Prediction'] = model.predict(features)\n",
    "    df['Buy_Signal'] = (df['Prediction'] == 1) & (df['Prediction'].shift(1) == 0)\n",
    "    df['Sell_Signal'] = (df['Prediction'] == 0) & (df['Prediction'].shift(1) == 1)\n",
    "    return df\n"
   ]
  },
  {
   "cell_type": "code",
   "execution_count": null,
   "metadata": {},
   "outputs": [],
   "source": [
    "\n",
    "for stock in stocks:\n",
    "    try:\n",
    "        test_data[stock] = generate_trading_signals(test_data[stock], model)\n",
    "    except Exception as e:\n",
    "        print(f\"Error while generating trading signals for {stock}: {e}\")\n"
   ]
  },
  {
   "cell_type": "code",
   "execution_count": null,
   "metadata": {},
   "outputs": [],
   "source": [
    "\n",
    "# Implement a backtesting framework\n",
    "def backtest(df, initial_investment=10000):\n",
    "    cash = initial_investment\n",
    "    position = 0\n",
    "    portfolio_value = []\n",
    "    trade_log = []\n",
    "\n",
    "    for i in range(len(df)):\n",
    "        if df['Buy_Signal'].iloc[i]:\n",
    "            if cash > 0:\n",
    "                position = cash / df['Close'].iloc[i]\n",
    "                cash = 0\n",
    "                trade_log.append(('Buy', df.index[i], df['Close'].iloc[i]))\n",
    "        elif df['Sell_Signal'].iloc[i]:\n",
    "            if position > 0:\n",
    "                cash = position * df['Close'].iloc[i]\n",
    "                position = 0\n",
    "                trade_log.append(('Sell', df.index[i], df['Close'].iloc[i]))\n",
    "        portfolio_value.append(cash + position * df['Close'].iloc[i])\n",
    "\n",
    "    df['Portfolio_Value'] = portfolio_value\n",
    "    return df, trade_log\n"
   ]
  },
  {
   "cell_type": "code",
   "execution_count": null,
   "metadata": {},
   "outputs": [],
   "source": [
    "\n",
    "performance_reports = []\n"
   ]
  },
  {
   "cell_type": "code",
   "execution_count": null,
   "metadata": {},
   "outputs": [],
   "source": [
    "\n",
    "for stock in stocks:\n",
    "    try:\n",
    "        train_features, train_target = prepare_data(train_data[stock])\n",
    "        test_features, test_target = prepare_data(test_data[stock])\n",
    "\n",
    "        if train_features.empty or not train_target.any():\n",
    "            print(f\"Training data for {stock} is empty or contains no positive samples. Skipping model fitting.\")\n",
    "            continue  # Skip model fitting for this stock\n",
    "\n",
    "        model.fit(train_features, train_target)\n",
    "        predictions = model.predict(test_features)\n",
    "\n",
    "        if not predictions.any():\n",
    "            print(f\"No predictions made for {stock}. Skipping performance evaluation.\")\n",
    "            continue  # Skip performance evaluation for this stock\n",
    "\n",
    "        accuracy = accuracy_score(test_target, predictions)\n",
    "        precision = precision_score(test_target, predictions)\n",
    "        recall = recall_score(test_target, predictions)\n",
    "\n",
    "        print(f\"Model performance for {stock}:\")\n",
    "        print(f\"Accuracy: {accuracy:.2f}\")\n",
    "        print(f\"Precision: {precision:.2f}\")\n",
    "        print(f\"Recall: {recall:.2f}\")\n",
    "        print(\"=\" * 40)\n",
    "\n",
    "        performance_reports.append({\n",
    "            'Stock': stock,\n",
    "            'Accuracy': accuracy,\n",
    "            'Precision': precision,\n",
    "            'Recall': recall\n",
    "        })\n",
    "\n",
    "    except Exception as e:\n",
    "        print(f\"Error while evaluating performance for {stock}: {e}\")\n"
   ]
  },
  {
   "cell_type": "code",
   "execution_count": null,
   "metadata": {},
   "outputs": [],
   "source": [
    "\n",
    "# Generate performance report\n",
    "def summary_report(reports):\n",
    "    summary = pd.DataFrame(reports)\n",
    "    return summary\n"
   ]
  },
  {
   "cell_type": "code",
   "execution_count": null,
   "metadata": {},
   "outputs": [],
   "source": [
    "\n",
    "summary = summary_report(performance_reports)\n",
    "print(summary)\n"
   ]
  },
  {
   "cell_type": "code",
   "execution_count": null,
   "metadata": {},
   "outputs": [],
   "source": [
    "\n",
    "# Write summary report\n",
    "def write_summary(summary):\n",
    "    print(\"Performance Summary Report:\")\n",
    "    print(summary)\n",
    "    print(\"=\" * 40)\n",
    "    for _, row in summary.iterrows():\n",
    "        print(f\"Stock: {row['Stock']}\")\n",
    "        print(f\"Accuracy: {row['Accuracy']:.2%}\")\n",
    "        print(f\"Precision: {row['Precision']:.2%}\")\n",
    "        print(f\"Recall: {row['Recall']:.2%}\")\n",
    "        print(\"=\" * 40)\n"
   ]
  },
  {
   "cell_type": "code",
   "execution_count": null,
   "metadata": {},
   "outputs": [],
   "source": [
    "\n",
    "write_summary(summary)\n"
   ]
  },
  {
   "cell_type": "code",
   "execution_count": null,
   "metadata": {},
   "outputs": [],
   "source": [
    "\n",
    "# Visualize buy/sell signals and portfolio value\n",
    "def visualize(stock, df):\n",
    "    plt.figure(figsize=(14, 7))\n",
    "    plt.plot(df.index, df['Close'], label='Close Price')\n",
    "\n",
    "    buy_indices = df.index[df['Buy_Signal']]\n",
    "    sell_indices = df.index[df['Sell_Signal']]\n",
    "\n",
    "    plt.scatter(buy_indices, df['Close'][df['Buy_Signal']], label='Buy Signal', marker='^', color='green')\n",
    "    plt.scatter(sell_indices, df['Close'][df['Sell_Signal']], label='Sell Signal', marker='v', color='red')\n",
    "\n",
    "    plt.title(f'{stock} Price with Buy/Sell Signals')\n",
    "    plt.legend()\n",
    "    plt.show()\n",
    "\n",
    "    plt.figure(figsize=(14, 7))\n",
    "    plt.plot(df.index, df['Portfolio_Value'], label='Portfolio Value')\n",
    "    plt.title(f'{stock} Portfolio Value Over Time')\n",
    "    plt.legend()\n",
    "    plt.show()\n"
   ]
  },
  {
   "cell_type": "code",
   "execution_count": null,
   "metadata": {},
   "outputs": [],
   "source": [
    "\n",
    "for stock in stocks:\n",
    "    try:\n",
    "        visualize(stock, test_data[stock])\n",
    "    except Exception as e:\n",
    "        print(f\"Error while visualizing {stock}: {e}\")\n"
   ]
  }
 ],
 "metadata": {
  "kernelspec": {
   "display_name": "Python 3",
   "language": "python",
   "name": "python3"
  },
  "language_info": {
   "codemirror_mode": {
    "name": "ipython",
    "version": 3
   },
   "file_extension": ".py",
   "mimetype": "text/x-python",
   "name": "python",
   "nbconvert_exporter": "python",
   "pygments_lexer": "ipython3",
   "version": "3.12.0"
  }
 },
 "nbformat": 4,
 "nbformat_minor": 2
}
